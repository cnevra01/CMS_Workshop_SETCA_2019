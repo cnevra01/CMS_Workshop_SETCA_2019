{
 "cells": [
  {
   "cell_type": "markdown",
   "metadata": {},
   "source": [
    "## File Parsing Lesson"
   ]
  },
  {
   "cell_type": "code",
   "execution_count": 1,
   "metadata": {},
   "outputs": [
    {
     "name": "stdout",
     "output_type": "stream",
     "text": [
      "\u001b[1m\u001b[34mAtom.app\u001b[m\u001b[m/\r\n",
      "\u001b[1m\u001b[34mCMS-Workshop\u001b[m\u001b[m/\r\n",
      "\u001b[1m\u001b[34mDrawing\u001b[m\u001b[m/\r\n",
      "File Parsing.ipynb\r\n",
      "\u001b[1m\u001b[34mInsurance\u001b[m\u001b[m/\r\n",
      "MolSSI Workshop.ipynb\r\n",
      "\u001b[1m\u001b[31mQuantum-Mechanics-griffiths-2ed-Solutions.pdf\u001b[m\u001b[m*\r\n",
      "\u001b[1m\u001b[34mResearch\u001b[m\u001b[m/\r\n",
      "\u001b[1m\u001b[34mTaxes\u001b[m\u001b[m/\r\n",
      "\u001b[1m\u001b[34mU of L\u001b[m\u001b[m/\r\n",
      "atom-mac.zip\r\n",
      "data.zip\r\n",
      "introduction-to-electrodynamics-solution-manual-david-griffiths.pdf\r\n",
      "kappen-05a.pdf\r\n",
      "\u001b[1m\u001b[31mpretoria_smithorgchem4e_sgsm.pdf\u001b[m\u001b[m*\r\n",
      "\u001b[1m\u001b[31mstring.pdf\u001b[m\u001b[m*\r\n",
      "\u001b[1m\u001b[31mstudent_solutions_ch01.pdf\u001b[m\u001b[m*\r\n"
     ]
    }
   ],
   "source": [
    "ls"
   ]
  },
  {
   "cell_type": "code",
   "execution_count": 2,
   "metadata": {},
   "outputs": [
    {
     "name": "stdout",
     "output_type": "stream",
     "text": [
      "/Users/clintevrard/Desktop/CMS-Workshop\n"
     ]
    }
   ],
   "source": [
    "cd CMS-Workshop/"
   ]
  },
  {
   "cell_type": "code",
   "execution_count": 3,
   "metadata": {},
   "outputs": [
    {
     "name": "stdout",
     "output_type": "stream",
     "text": [
      "\u001b[1m\u001b[34mdata\u001b[m\u001b[m/\r\n"
     ]
    }
   ],
   "source": [
    "ls"
   ]
  },
  {
   "cell_type": "code",
   "execution_count": null,
   "metadata": {},
   "outputs": [],
   "source": []
  }
 ],
 "metadata": {
  "kernelspec": {
   "display_name": "Python 3",
   "language": "python",
   "name": "python3"
  },
  "language_info": {
   "codemirror_mode": {
    "name": "ipython",
    "version": 3
   },
   "file_extension": ".py",
   "mimetype": "text/x-python",
   "name": "python",
   "nbconvert_exporter": "python",
   "pygments_lexer": "ipython3",
   "version": "3.7.0"
  }
 },
 "nbformat": 4,
 "nbformat_minor": 2
}
