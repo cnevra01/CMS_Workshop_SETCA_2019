{
 "cells": [
  {
   "cell_type": "markdown",
   "metadata": {},
   "source": [
    "## MolSSI Workshop for Computational Molecular Science"
   ]
  },
  {
   "cell_type": "code",
   "execution_count": 1,
   "metadata": {},
   "outputs": [
    {
     "name": "stdout",
     "output_type": "stream",
     "text": [
      "-3640.7000000000003\n"
     ]
    }
   ],
   "source": [
    "deltaH = -541.5  #kJ/mol\n",
    "deltaS = 10.4    #kJ/(mol K)\n",
    "temp = 298       #Kelvin\n",
    "deltaG = deltaH - temp*deltaS\n",
    "\n",
    "print(deltaG)"
   ]
  },
  {
   "cell_type": "code",
   "execution_count": 2,
   "metadata": {},
   "outputs": [
    {
     "data": {
      "text/plain": [
       "-3640700.0000000005"
      ]
     },
     "execution_count": 2,
     "metadata": {},
     "output_type": "execute_result"
    }
   ],
   "source": [
    "deltaG*1000"
   ]
  },
  {
   "cell_type": "code",
   "execution_count": 3,
   "metadata": {},
   "outputs": [
    {
     "name": "stdout",
     "output_type": "stream",
     "text": [
      "-3640.7000000000003\n",
      "-3640700.0000000005\n"
     ]
    }
   ],
   "source": [
    "deltaG_joules = deltaG*1000\n",
    "\n",
    "print(deltaG)\n",
    "print(deltaG_joules)"
   ]
  },
  {
   "cell_type": "code",
   "execution_count": 4,
   "metadata": {},
   "outputs": [
    {
     "name": "stdout",
     "output_type": "stream",
     "text": [
      "-3640.6000000000004\n"
     ]
    }
   ],
   "source": [
    "deltaH, deltaS, temp = -541.4, 10.4, 298\n",
    "deltaG = deltaH - temp*deltaS\n",
    "\n",
    "print(deltaG)"
   ]
  },
  {
   "cell_type": "code",
   "execution_count": 5,
   "metadata": {},
   "outputs": [
    {
     "data": {
      "text/plain": [
       "float"
      ]
     },
     "execution_count": 5,
     "metadata": {},
     "output_type": "execute_result"
    }
   ],
   "source": [
    "type(deltaG)"
   ]
  },
  {
   "cell_type": "code",
   "execution_count": 6,
   "metadata": {},
   "outputs": [
    {
     "name": "stdout",
     "output_type": "stream",
     "text": [
      "-3640.6000000000004\n"
     ]
    }
   ],
   "source": [
    "# Other common data types: int, str\n",
    "deltaG_string = str(deltaG)\n",
    "\n",
    "print(deltaG_string)"
   ]
  },
  {
   "cell_type": "code",
   "execution_count": 7,
   "metadata": {},
   "outputs": [
    {
     "data": {
      "text/plain": [
       "str"
      ]
     },
     "execution_count": 7,
     "metadata": {},
     "output_type": "execute_result"
    }
   ],
   "source": [
    "type(deltaG_string)"
   ]
  },
  {
   "cell_type": "code",
   "execution_count": 8,
   "metadata": {},
   "outputs": [
    {
     "name": "stdout",
     "output_type": "stream",
     "text": [
      "[-13.4, -2.7, 5.4, 42.1]\n"
     ]
    }
   ],
   "source": [
    "# list\n",
    "energy_kcal = [-13.4, -2.7, 5.4, 42.1]\n",
    "\n",
    "print(energy_kcal)"
   ]
  },
  {
   "cell_type": "code",
   "execution_count": 9,
   "metadata": {},
   "outputs": [
    {
     "name": "stdout",
     "output_type": "stream",
     "text": [
      "4\n"
     ]
    }
   ],
   "source": [
    "#list length\n",
    "energy_length = len(energy_kcal)\n",
    "\n",
    "print(energy_length)"
   ]
  },
  {
   "cell_type": "code",
   "execution_count": 10,
   "metadata": {},
   "outputs": [
    {
     "name": "stdout",
     "output_type": "stream",
     "text": [
      "-13.4\n",
      "5.4\n"
     ]
    }
   ],
   "source": [
    "#address a single element of a list\n",
    "print(energy_kcal[0])\n",
    "print(energy_kcal[2])"
   ]
  },
  {
   "cell_type": "markdown",
   "metadata": {},
   "source": [
    "### Taking a Slice"
   ]
  },
  {
   "cell_type": "code",
   "execution_count": 12,
   "metadata": {},
   "outputs": [
    {
     "name": "stdout",
     "output_type": "stream",
     "text": [
      "[-13.4, -2.7]\n"
     ]
    }
   ],
   "source": [
    "#new_list = old_list[start:end]\n",
    "\n",
    "new_list = energy_kcal[0:2]\n",
    "print(new_list)"
   ]
  },
  {
   "cell_type": "code",
   "execution_count": 14,
   "metadata": {},
   "outputs": [
    {
     "name": "stdout",
     "output_type": "stream",
     "text": [
      "[-2.7, 5.4, 42.1]\n",
      "[-13.4, -2.7, 5.4]\n"
     ]
    }
   ],
   "source": [
    "slice1 = energy_kcal[1:]\n",
    "slice2 = energy_kcal[:3]\n",
    "\n",
    "print(slice1)\n",
    "print(slice2)"
   ]
  },
  {
   "cell_type": "code",
   "execution_count": 15,
   "metadata": {},
   "outputs": [
    {
     "name": "stdout",
     "output_type": "stream",
     "text": [
      "slice1 [-2.7, 5.4, 42.1] slice2 [-13.4, -2.7, 5.4]\n"
     ]
    }
   ],
   "source": [
    "print('slice1', slice1, 'slice2', slice2)"
   ]
  },
  {
   "cell_type": "code",
   "execution_count": 16,
   "metadata": {},
   "outputs": [
    {
     "name": "stdout",
     "output_type": "stream",
     "text": [
      "slice1 [-2.7, 5.4, 42.1]\n",
      "slice2 [-13.4, -2.7, 5.4]\n",
      "[-13.4, -2.7, 5.4, 42.1]\n"
     ]
    }
   ],
   "source": [
    "print('slice1', slice1)\n",
    "print('slice2', slice2)\n",
    "print(energy_kcal)"
   ]
  },
  {
   "cell_type": "code",
   "execution_count": 17,
   "metadata": {},
   "outputs": [
    {
     "name": "stdout",
     "output_type": "stream",
     "text": [
      "Sp\n"
     ]
    }
   ],
   "source": [
    "word = 'Spancer'\n",
    "\n",
    "str_slice = word[:2]\n",
    "print(str_slice)"
   ]
  },
  {
   "cell_type": "code",
   "execution_count": 18,
   "metadata": {},
   "outputs": [
    {
     "name": "stdout",
     "output_type": "stream",
     "text": [
      "[-13.4, -2.7, 5.4, 42.1]\n"
     ]
    }
   ],
   "source": [
    "energy_kcal[0:2]\n",
    "print(energy_kcal)\n",
    "\n",
    "#Since python variables are immutable this slice won't be saved and energy_kcal will be the same."
   ]
  },
  {
   "cell_type": "markdown",
   "metadata": {},
   "source": [
    "### For Loop"
   ]
  },
  {
   "cell_type": "code",
   "execution_count": 19,
   "metadata": {},
   "outputs": [
    {
     "name": "stdout",
     "output_type": "stream",
     "text": [
      "-56.0656\n",
      "-11.296800000000001\n",
      "22.593600000000002\n",
      "176.1464\n"
     ]
    }
   ],
   "source": [
    "# for 'variable' in 'list_name':\n",
    "#      do thing with 'variable'\n",
    "\n",
    "for number in energy_kcal:   #\"for number\" will take each number in the list and do the operation to it.\n",
    "    kJ = number*4.184\n",
    "    print(kJ)\n"
   ]
  },
  {
   "cell_type": "code",
   "execution_count": 20,
   "metadata": {},
   "outputs": [
    {
     "name": "stdout",
     "output_type": "stream",
     "text": [
      "[-56.0656, -11.296800000000001, 22.593600000000002, 176.1464]\n"
     ]
    }
   ],
   "source": [
    "energy_kJ = []\n",
    "for number in energy_kcal:\n",
    "    kJ = number*4.184\n",
    "    energy_kJ.append(kJ)  #Append list syntax\n",
    "\n",
    "print(energy_kJ)"
   ]
  },
  {
   "cell_type": "code",
   "execution_count": 24,
   "metadata": {},
   "outputs": [
    {
     "name": "stdout",
     "output_type": "stream",
     "text": [
      "[-13.4, -2.7]\n",
      "[5.4, 42.1]\n",
      "[-13.4, -2.7, 5.4, 42.1]\n"
     ]
    }
   ],
   "source": [
    "negatives = []\n",
    "positives = []\n",
    "for number in energy_kcal:\n",
    "    if number<0:   #if statement syntax, compare and then do something\n",
    "        negatives.append(number)   #negatives and positives lists must be defined\n",
    "    else:\n",
    "        positives.append(number)\n",
    "        \n",
    "print(negatives)\n",
    "print(positives)\n",
    "print(energy_kcal)"
   ]
  },
  {
   "cell_type": "code",
   "execution_count": null,
   "metadata": {},
   "outputs": [],
   "source": []
  }
 ],
 "metadata": {
  "kernelspec": {
   "display_name": "Python 3",
   "language": "python",
   "name": "python3"
  },
  "language_info": {
   "codemirror_mode": {
    "name": "ipython",
    "version": 3
   },
   "file_extension": ".py",
   "mimetype": "text/x-python",
   "name": "python",
   "nbconvert_exporter": "python",
   "pygments_lexer": "ipython3",
   "version": "3.7.0"
  }
 },
 "nbformat": 4,
 "nbformat_minor": 2
}
