{
 "cells": [
  {
   "cell_type": "code",
   "execution_count": 1,
   "metadata": {},
   "outputs": [],
   "source": [
    "import numpy"
   ]
  },
  {
   "cell_type": "code",
   "execution_count": 2,
   "metadata": {},
   "outputs": [],
   "source": [
    "import os"
   ]
  },
  {
   "cell_type": "code",
   "execution_count": 3,
   "metadata": {},
   "outputs": [
    {
     "name": "stdout",
     "output_type": "stream",
     "text": [
      "data/water.xyz\n"
     ]
    }
   ],
   "source": [
    "water_file = os.path.join('data','water.xyz')\n",
    "print(water_file)"
   ]
  },
  {
   "cell_type": "code",
   "execution_count": 4,
   "metadata": {},
   "outputs": [
    {
     "name": "stdout",
     "output_type": "stream",
     "text": [
      "[['O' '0.000000' '-0.007156' '0.965491']\n",
      " ['H1' '-0.000000' '0.001486' '-0.003471']\n",
      " ['H2' '0.000000' '0.931026' '1.207929']]\n"
     ]
    }
   ],
   "source": [
    "#mix between the floats and str\n",
    "water = numpy.genfromtxt(fname=water_file, delimiter='', skip_header=2, dtype='unicode')\n",
    "print(water)"
   ]
  },
  {
   "cell_type": "code",
   "execution_count": 5,
   "metadata": {},
   "outputs": [
    {
     "name": "stdout",
     "output_type": "stream",
     "text": [
      "0.001486\n"
     ]
    }
   ],
   "source": [
    "print(water[1,2])"
   ]
  },
  {
   "cell_type": "code",
   "execution_count": 6,
   "metadata": {},
   "outputs": [
    {
     "name": "stdout",
     "output_type": "stream",
     "text": [
      "[['0.000000' '-0.007156' '0.965491']\n",
      " ['-0.000000' '0.001486' '-0.003471']\n",
      " ['0.000000' '0.931026' '1.207929']]\n"
     ]
    }
   ],
   "source": [
    "molecule_data = water[:, 1:]\n",
    "print(molecule_data)"
   ]
  },
  {
   "cell_type": "code",
   "execution_count": 7,
   "metadata": {},
   "outputs": [],
   "source": [
    "molecule_data = molecule_data.astype(numpy.float)"
   ]
  },
  {
   "cell_type": "code",
   "execution_count": 8,
   "metadata": {},
   "outputs": [
    {
     "data": {
      "text/plain": [
       "numpy.ndarray"
      ]
     },
     "execution_count": 8,
     "metadata": {},
     "output_type": "execute_result"
    }
   ],
   "source": [
    "type(molecule_data)"
   ]
  },
  {
   "cell_type": "code",
   "execution_count": 9,
   "metadata": {},
   "outputs": [
    {
     "name": "stdout",
     "output_type": "stream",
     "text": [
      " O-O : 0.000\n",
      " O-H1 : 0.969\n",
      " O-H2 : 0.969\n",
      " H1-O : 0.969\n",
      " H1-H1 : 0.000\n",
      " H1-H2 : 1.527\n",
      " H2-O : 0.969\n",
      " H2-H1 : 1.527\n",
      " H2-H2 : 0.000\n"
     ]
    }
   ],
   "source": [
    "for i in range(3):\n",
    "    row = molecule_data[i,:]\n",
    "    xcoord = molecule_data[i,0]\n",
    "    ycoord = molecule_data[i,1]\n",
    "    zcoord = molecule_data[i,2]\n",
    "    for j in range(3):\n",
    "        row2 = molecule_data[j,:]\n",
    "        xcoordj = molecule_data[j,0]\n",
    "        ycoordj = molecule_data[j,1]\n",
    "        zcoordj = molecule_data[j,2]\n",
    "        distance = numpy.sqrt(((xcoordj-xcoord)**2)+((ycoordj-ycoord)**2)+((zcoordj-zcoord)**2))\n",
    "        if i == 0:\n",
    "            i = 'O'\n",
    "        elif i == 1:\n",
    "            i = 'H1'\n",
    "        elif i == 2:\n",
    "            i = 'H2'\n",
    "        if j == 0:\n",
    "            j = 'O'\n",
    "        elif j == 1:\n",
    "            j = 'H1'\n",
    "        elif j == 2:\n",
    "            j = 'H2'\n",
    "            \n",
    "        print(F' {i}-{j} : {distance:.3f}')"
   ]
  },
  {
   "cell_type": "code",
   "execution_count": null,
   "metadata": {},
   "outputs": [],
   "source": []
  }
 ],
 "metadata": {
  "kernelspec": {
   "display_name": "Python 3",
   "language": "python",
   "name": "python3"
  },
  "language_info": {
   "codemirror_mode": {
    "name": "ipython",
    "version": 3
   },
   "file_extension": ".py",
   "mimetype": "text/x-python",
   "name": "python",
   "nbconvert_exporter": "python",
   "pygments_lexer": "ipython3",
   "version": "3.7.0"
  }
 },
 "nbformat": 4,
 "nbformat_minor": 2
}
