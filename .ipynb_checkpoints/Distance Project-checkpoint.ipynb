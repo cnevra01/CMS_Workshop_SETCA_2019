{
 "cells": [
  {
   "cell_type": "code",
   "execution_count": 1,
   "metadata": {},
   "outputs": [
    {
     "name": "stdout",
     "output_type": "stream",
     "text": [
      "Distance Project.ipynb  MolSSI_Workshop.ipynb   \u001b[1m\u001b[34mdata\u001b[m\u001b[m/\r\n",
      "File_Parsing.ipynb      Tabular Data.ipynb      energies.txt\r\n"
     ]
    }
   ],
   "source": [
    "ls"
   ]
  },
  {
   "cell_type": "code",
   "execution_count": 2,
   "metadata": {},
   "outputs": [
    {
     "data": {
      "text/plain": [
       "'/Users/clintevrard/Desktop/CMS-Workshop'"
      ]
     },
     "execution_count": 2,
     "metadata": {},
     "output_type": "execute_result"
    }
   ],
   "source": [
    "pwd"
   ]
  },
  {
   "cell_type": "code",
   "execution_count": 3,
   "metadata": {},
   "outputs": [
    {
     "name": "stdout",
     "output_type": "stream",
     "text": [
      "/Users/clintevrard/Desktop/CMS-Workshop/data\n"
     ]
    }
   ],
   "source": [
    "cd data/"
   ]
  },
  {
   "cell_type": "code",
   "execution_count": 4,
   "metadata": {},
   "outputs": [
    {
     "name": "stdout",
     "output_type": "stream",
     "text": [
      "\u001b[1m\u001b[31mbenzene.xyz\u001b[m\u001b[m*               \u001b[1m\u001b[34moutfiles\u001b[m\u001b[m/\r\n",
      "\u001b[1m\u001b[31mbuckminsterfullerene.xyz\u001b[m\u001b[m*  \u001b[1m\u001b[31msapt.out\u001b[m\u001b[m*\r\n",
      "\u001b[1m\u001b[31mdistance_data_headers.csv\u001b[m\u001b[m* \u001b[1m\u001b[31mwater.xyz\u001b[m\u001b[m*\r\n"
     ]
    }
   ],
   "source": [
    "ls"
   ]
  },
  {
   "cell_type": "code",
   "execution_count": 5,
   "metadata": {},
   "outputs": [
    {
     "name": "stdout",
     "output_type": "stream",
     "text": [
      "/Users/clintevrard/Desktop/CMS-Workshop\n"
     ]
    }
   ],
   "source": [
    "cd .."
   ]
  },
  {
   "cell_type": "code",
   "execution_count": 6,
   "metadata": {},
   "outputs": [
    {
     "name": "stdout",
     "output_type": "stream",
     "text": [
      "Distance Project.ipynb  MolSSI_Workshop.ipynb   \u001b[1m\u001b[34mdata\u001b[m\u001b[m/\r\n",
      "File_Parsing.ipynb      Tabular Data.ipynb      energies.txt\r\n"
     ]
    }
   ],
   "source": [
    "ls"
   ]
  },
  {
   "cell_type": "code",
   "execution_count": 7,
   "metadata": {},
   "outputs": [],
   "source": [
    "import os"
   ]
  },
  {
   "cell_type": "code",
   "execution_count": 8,
   "metadata": {},
   "outputs": [
    {
     "name": "stdout",
     "output_type": "stream",
     "text": [
      "data/water.xyz\n"
     ]
    }
   ],
   "source": [
    "water_params = os.path.join('data','water.xyz')\n",
    "print(water_params)"
   ]
  },
  {
   "cell_type": "code",
   "execution_count": 10,
   "metadata": {},
   "outputs": [
    {
     "name": "stdout",
     "output_type": "stream",
     "text": [
      "['3\\n', 'Water xyz file\\n', 'O        0.000000     -0.007156      0.965491\\n', 'H1      -0.000000      0.001486     -0.003471\\n', 'H2       0.000000      0.931026      1.207929\\n']\n"
     ]
    }
   ],
   "source": [
    "paramfile = open(water_params,'r')\n",
    "parameters = paramfile.readlines()\n",
    "paramfile.close\n",
    "print(parameters)"
   ]
  },
  {
   "cell_type": "code",
   "execution_count": 17,
   "metadata": {},
   "outputs": [
    {
     "name": "stdout",
     "output_type": "stream",
     "text": [
      "['3', '']\n",
      "['Water xyz file', '']\n",
      "['O        0.000000     -0.007156      0.965491', '']\n",
      "['H1      -0.000000      0.001486     -0.003471', '']\n",
      "['H2       0.000000      0.931026      1.207929', '']\n"
     ]
    }
   ],
   "source": [
    "for line in parameters:\n",
    "    split_line = line.split('\\n')\n",
    "    print(split_line)"
   ]
  },
  {
   "cell_type": "code",
   "execution_count": 18,
   "metadata": {},
   "outputs": [
    {
     "name": "stdout",
     "output_type": "stream",
     "text": [
      "['H2       0.000000      0.931026      1.207929', '']\n"
     ]
    }
   ],
   "source": [
    "coords = split_line[:]\n",
    "print(coords)"
   ]
  },
  {
   "cell_type": "code",
   "execution_count": null,
   "metadata": {},
   "outputs": [],
   "source": []
  }
 ],
 "metadata": {
  "kernelspec": {
   "display_name": "Python 3",
   "language": "python",
   "name": "python3"
  },
  "language_info": {
   "codemirror_mode": {
    "name": "ipython",
    "version": 3
   },
   "file_extension": ".py",
   "mimetype": "text/x-python",
   "name": "python",
   "nbconvert_exporter": "python",
   "pygments_lexer": "ipython3",
   "version": "3.7.0"
  }
 },
 "nbformat": 4,
 "nbformat_minor": 2
}
